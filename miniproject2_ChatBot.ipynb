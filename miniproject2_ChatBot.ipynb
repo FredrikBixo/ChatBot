{
 "cells": [
  {
   "cell_type": "markdown",
   "metadata": {},
   "source": [
    "# Miniproject 2: Chatbot\n",
    "\n",
    "## Introduction\n",
    "\n",
    "### Description\n",
    "\n",
    "Developing a model employing ANN on real-world data requires going through several major steps, each of which with \n",
    "important design choices that directly impact the final results. \n",
    "In this project, we guide you through these choices starting from a large database of \n",
    "[conversations](http://parl.ai/downloads/personachat/personachat.tgz) to a functional chatbot. \n",
    "\n",
    "### Prerequisites\n",
    "\n",
    "- You should have a running installation of [tensorflow](https://www.tensorflow.org/install/) and [keras](https://keras.io/).\n",
    "- You should know the concepts \"recurrent neural networks\", \"LSTM\", \"training and validation data\", \"overfitting\" and \"early stopping\".\n",
    "\n",
    "### What you will learn\n",
    "\n",
    "- You will be guided through a data processing procedure and understand the importance of design choices in ANN modeling\n",
    "- You will learn how to define recurrent neural networks in keras and fit them to data.\n",
    "- You will be guided through a prototyping procedure for the application of deep learning to a specific domain.\n",
    "- You will get in contact with concepts discussed in the lecture, like \"overfitting\", \"LSTM network\", and \"Generative model\".\n",
    "- You will learn to be more patient :) Some fits may take your computer quite a bit of time; run them over night and make sure you save (and load) your data and models.\n",
    "\n",
    "### Evaluation criteria\n",
    "\n",
    "The evaluation is (mostly) based on the figures you submit and your answer sentences. \n",
    "We will only do random tests of your code and not re-run the full notebook. \n",
    "Please ensure that your notebook is fully executed before handing it in. \n",
    "\n",
    "### Submission \n",
    "\n",
    "You should submit your notebook through the Moodle page submission tool. You should work in teams of two people and each member should submit the same notebook to Moodle.\n",
    "\n"
   ]
  },
  {
   "cell_type": "markdown",
   "metadata": {},
   "source": [
    "## Functions and imports\n",
    "\n",
    "For your convenience we import some libraries and provide some functions below. Fill in your names, sciper numbers and run the following cell."
   ]
  },
  {
   "cell_type": "code",
   "execution_count": 72,
   "metadata": {},
   "outputs": [],
   "source": [
    "names = {'student_1': \"Fredrik Bixo\",\n",
    "        'student_2': \"Pierre Armel Mbanga Ndjock\"}\n",
    "\n",
    "sciper = {'student_1': 300685, \n",
    "          'student_2': 229047}\n",
    "\n",
    "seed = sciper['student_1']+sciper['student_2']\n",
    "\n",
    "%matplotlib inline\n",
    "\n",
    "import numpy as np\n",
    "import numpy.ma as ma\n",
    "import matplotlib.pyplot as plt\n",
    "import os, sys\n",
    "import copy\n",
    "\n",
    "plt.rcParams['font.size'] = 28\n",
    "plt.style.use('ggplot')\n",
    "plt.rcParams[\"axes.grid\"] = False\n",
    "c = plt.rcParams['axes.prop_cycle'].by_key()['color']\n",
    "\n",
    "import keras\n",
    "from keras.models import Model, load_model\n",
    "from keras.layers import Input, Masking, TimeDistributed, Dense, Concatenate, Dropout, LSTM, GRU, SimpleRNN, Bidirectional, Embedding, BatchNormalization\n",
    "from keras.optimizers import Adam\n",
    "from keras.utils import np_utils\n",
    "from keras.preprocessing.sequence import pad_sequences\n",
    "from keras.callbacks import ModelCheckpoint, EarlyStopping\n",
    "\n",
    "\n",
    "def getRawDataFromFile(datapath=\"personachat/\", file=\"train_both_revised.txt\"):\n",
    "    \n",
    "    f = open(datapath+file)\n",
    "\n",
    "    conversations = []\n",
    "    current_conversation = []\n",
    "    \n",
    "    for l, line in enumerate(f):\n",
    "        #print(l, line)\n",
    "        if \"persona:\" in line:\n",
    "            if len(current_conversation) > 1:\n",
    "                conversations.append(current_conversation)\n",
    "            current_conversation = [] \n",
    "            continue\n",
    "\n",
    "        #remove numberings\n",
    "        processed_line = line.split(' ')\n",
    "        processed_line = \" \".join(processed_line[1:])\n",
    "        line = processed_line\n",
    "        #print(line)\n",
    "\n",
    "        conv = line.split('\\t')    \n",
    "        q = conv[0]\n",
    "        a = conv[1]\n",
    "        current_conversation.append(q)\n",
    "        current_conversation.append(a)\n",
    "    \n",
    "    return conversations \n",
    "\n",
    "\n",
    "\n",
    "# Plotting\n",
    "\n",
    "def prepare_standardplot(title, xlabel):\n",
    "    fig, (ax1, ax2) = plt.subplots(1, 2)\n",
    "    fig.suptitle(title)\n",
    "    ax1.set_ylabel('categorical cross entropy')\n",
    "    ax1.set_xlabel(xlabel)\n",
    "    ax1.set_yscale('log')\n",
    "    ax2.set_ylabel('accuracy [% correct]')\n",
    "    ax2.set_xlabel(xlabel)\n",
    "    return fig, ax1, ax2\n",
    "\n",
    "def finalize_standardplot(fig, ax1, ax2):\n",
    "    ax1handles, ax1labels = ax1.get_legend_handles_labels()\n",
    "    if len(ax1labels) > 0:\n",
    "        ax1.legend(ax1handles, ax1labels)\n",
    "    ax2handles, ax2labels = ax2.get_legend_handles_labels()\n",
    "    if len(ax2labels) > 0:\n",
    "        ax2.legend(ax2handles, ax2labels)\n",
    "    fig.tight_layout()\n",
    "    plt.subplots_adjust(top=0.9)\n",
    "\n",
    "def plot_history(history, title):\n",
    "    fig, ax1, ax2 = prepare_standardplot(title, 'epoch')\n",
    "    ax1.plot(history['loss'], label = \"training\")\n",
    "    ax1.plot(history['val_loss'], label = \"validation\")\n",
    "    ax2.plot(history['acc'], label = \"training\")\n",
    "    ax2.plot(history['val_acc'], label = \"validation\")\n",
    "    finalize_standardplot(fig, ax1, ax2)\n",
    "    return fig"
   ]
  },
  {
   "cell_type": "markdown",
   "metadata": {
    "collapsed": true
   },
   "source": [
    "## Data visualization and preprocessing\n",
    "\n",
    "Here we will process and visualize the data.\n"
   ]
  },
  {
   "cell_type": "markdown",
   "metadata": {},
   "source": [
    "### Parse raw data \n",
    "\n",
    "Download the dataset on http://parl.ai/downloads/personachat/personachat.tgz. Unpack it and add it to your project folder. Read and run the getRawDataFromFile function (if needed, modify the default path). It extracts the conversations.\n",
    "\n",
    "**Output** Display two randomly selected conversations. [1 pt]"
   ]
  },
  {
   "cell_type": "code",
   "execution_count": 79,
   "metadata": {},
   "outputs": [],
   "source": [
    "conversations = getRawDataFromFile()"
   ]
  },
  {
   "cell_type": "code",
   "execution_count": 80,
   "metadata": {},
   "outputs": [
    {
     "data": {
      "text/plain": [
       "8938"
      ]
     },
     "execution_count": 80,
     "metadata": {},
     "output_type": "execute_result"
    }
   ],
   "source": [
    "len(conversations)"
   ]
  },
  {
   "cell_type": "code",
   "execution_count": 81,
   "metadata": {},
   "outputs": [
    {
     "data": {
      "text/plain": [
       "['hi , how are you doing ? i am getting ready to do some cheetah chasing to stay in shape .',\n",
       " 'you must be very fast . hunting is one of my favorite hobbies .',\n",
       " 'i am ! for my hobby i like to do canning or some whittling .',\n",
       " 'i also remodel homes when i am not out bow hunting .',\n",
       " 'that is neat . when i was in high school i placed 6th in 100m dash !',\n",
       " 'that is awesome . do you have a favorite season or time of year ?',\n",
       " 'i do not . but i do have a favorite meat since that is all i eat exclusively .',\n",
       " 'what is your favorite meat to eat ?',\n",
       " 'i would have to say its prime rib . do you have any favorite foods ?',\n",
       " 'i like chicken or macaroni and cheese .',\n",
       " 'do you have anything planned for today ? i think i am going to do some canning .',\n",
       " 'i am going to watch football . what are you canning ?',\n",
       " 'i think i will can some jam . do you also play footfall for fun ?',\n",
       " 'if i have time outside of hunting and remodeling homes . which is not much !']"
      ]
     },
     "execution_count": 81,
     "metadata": {},
     "output_type": "execute_result"
    }
   ],
   "source": [
    "conversations[0]"
   ]
  },
  {
   "cell_type": "code",
   "execution_count": 82,
   "metadata": {},
   "outputs": [],
   "source": [
    "sentences = [sentence for conv in conversations for sentence in conv]"
   ]
  },
  {
   "cell_type": "code",
   "execution_count": 83,
   "metadata": {},
   "outputs": [],
   "source": [
    "separator = ' '"
   ]
  },
  {
   "cell_type": "markdown",
   "metadata": {},
   "source": [
    "### Extract word tokens\n",
    "\n",
    "Let's start looking at our data. \n",
    "\n",
    "**Code** Compute the set of unique words (dictionary) in all sentences along with the number of occurences of each of these words. HINT: each word is separated by a space character, use the python string.split(' ') function to separate words. Consider punctuations as 'words'. [1 pt]\n",
    "\n",
    "**Figure** In a bar plot, show the first 75 most frequent words (x-axis) and their number of occurences (y-axis). [1 pt]\n",
    "\n",
    "**Figure** In another bar plot, show the 75 least frequent words (x-axis) and their number of occurences (y-axis). [1 pt] \n",
    "\n",
    "**Figure** In a log-log scale, plot the sorted word index (x-axis) vs their respective count (y-axis). [1 pt]\n",
    "\n",
    "**Question** Relate the sorted word count distribution with Zipf's law.\n",
    "Argue using the log-log plot. [1 pt]\n",
    "\n",
    "**Answer**\n",
    "\n",
    "**Question** How many words appear only once in the entire dataset? [1 pt]\n",
    "\n",
    "**Answer**\n",
    "\n"
   ]
  },
  {
   "cell_type": "code",
   "execution_count": 84,
   "metadata": {},
   "outputs": [],
   "source": [
    "from collections import OrderedDict"
   ]
  },
  {
   "cell_type": "code",
   "execution_count": 85,
   "metadata": {
    "scrolled": false
   },
   "outputs": [],
   "source": [
    "word_dic = {} \n",
    "\n",
    "for conv in conversations:\n",
    "    for sentence in conv:\n",
    "        words = sentence.split(separator)\n",
    "        for w in words:\n",
    "            if w not in word_dic:\n",
    "                word_dic[w] = 0\n",
    "            word_dic[w] += 1"
   ]
  },
  {
   "cell_type": "code",
   "execution_count": 86,
   "metadata": {
    "scrolled": true
   },
   "outputs": [
    {
     "name": "stdout",
     "output_type": "stream",
     "text": [
      "word                 frequency\n",
      "-------------------- ------\n",
      "hi                   004485\n",
      ",                    039499\n",
      "how                  010903\n",
      "are                  017934\n",
      "you                  048295\n",
      "doing                004250\n",
      "?                    043768\n",
      "i                    103476\n",
      "am                   024797\n",
      "getting              000823\n",
      "ready                000412\n"
     ]
    }
   ],
   "source": [
    "print('{:20} {:>06s}'.format('word', 'frequency'))\n",
    "print('{:20} {:>06s}'.format('-'*20, '-'*6))\n",
    "first_n = 10\n",
    "for i, w in enumerate(word_dic.keys()):\n",
    "    print('{:20} {:>06d}'.format(w, word_dic[w]))\n",
    "    if not i < first_n:\n",
    "        break"
   ]
  },
  {
   "cell_type": "code",
   "execution_count": 87,
   "metadata": {},
   "outputs": [],
   "source": [
    "cut = 75"
   ]
  },
  {
   "cell_type": "code",
   "execution_count": 88,
   "metadata": {},
   "outputs": [
    {
     "name": "stdout",
     "output_type": "stream",
     "text": [
      "word                 frequency\n",
      "-------------------- ------\n",
      "i                    103476\n",
      ".                    101587\n",
      "you                  048295\n",
      "?                    043768\n",
      ",                    039499\n",
      "a                    034213\n",
      "to                   032102\n",
      "do                   030574\n",
      "is                   028573\n",
      "my                   026950\n",
      "am                   024797\n",
      "!                    023246\n",
      "the                  021139\n",
      "that                 020133\n",
      "have                 018422\n",
      "are                  017934\n",
      "and                  016756\n",
      "like                 016708\n",
      "it                   014512\n",
      "not                  014116\n",
      "in                   013501\n",
      "what                 013188\n",
      "of                   012253\n",
      "for                  011337\n",
      "how                  010903\n",
      "love                 010748\n",
      "but                  008145\n",
      "good                 008036\n",
      "me                   007958\n",
      "just                 007810\n",
      "so                   007655\n",
      "with                 007228\n",
      "work                 006373\n",
      "your                 006014\n",
      "on                   005876\n",
      "too                  005872\n",
      "at                   005854\n",
      "be                   005686\n",
      "about                005523\n",
      "no                   005048\n",
      "oh                   004930\n",
      "well                 004701\n",
      "yes                  004569\n",
      "would                004548\n",
      "great                004511\n",
      "hi                   004485\n",
      "was                  004338\n",
      "doing                004250\n",
      "cool                 004196\n",
      "can                  004161\n",
      "favorite             004121\n",
      "nice                 004078\n",
      "from                 004005\n",
      "there                003970\n",
      "they                 003891\n",
      "time                 003859\n",
      "go                   003852\n",
      "really               003805\n",
      "all                  003687\n",
      "get                  003569\n",
      "as                   003552\n",
      "any                  003490\n",
      "today                003278\n",
      "will                 003255\n",
      "its                  003240\n",
      "fun                  003238\n",
      "hello                003200\n",
      "we                   003159\n",
      "sounds               003056\n",
      "out                  003029\n",
      "an                   002985\n",
      "very                 002976\n",
      "one                  002959\n",
      "music                002906\n",
      "up                   002865\n"
     ]
    }
   ],
   "source": [
    "# top 75 words\n",
    "print('{:20} {:>06s}'.format('word', 'frequency'))\n",
    "print('{:20} {:>06s}'.format('-'*20, '-'*6))\n",
    "\n",
    "top = OrderedDict(sorted(word_dic.items(), key=lambda kv: kv[1], reverse=True)[:cut])\n",
    "for w in top.keys():\n",
    "    print('{:20} {:>06d}'.format(w, top[w]))"
   ]
  },
  {
   "cell_type": "code",
   "execution_count": 89,
   "metadata": {},
   "outputs": [
    {
     "name": "stdout",
     "output_type": "stream",
     "text": [
      "word                 frequency\n",
      "-------------------- ------\n",
      "100m                 000001\n",
      "footfall             000001\n",
      "mojitos              000001\n",
      "asians               000001\n",
      "taos                 000001\n",
      "braids               000001\n",
      "clot                 000001\n",
      "breaker              000001\n",
      "ventured             000001\n",
      "smash                000001\n",
      "whatsis              000001\n",
      "whenso               000001\n",
      "1960                 000001\n",
      "secured              000001\n",
      "michener             000001\n",
      "churchill            000001\n",
      "colombia             000001\n",
      "hillbilly            000001\n",
      "reel                 000001\n",
      "ido                  000001\n",
      "negatively           000001\n",
      "gravity              000001\n",
      "futurama             000001\n",
      "forestry             000001\n",
      "shibamotos           000001\n",
      "providence           000001\n",
      "omega                000001\n",
      "togther              000001\n",
      "jobless              000001\n",
      "greenway             000001\n",
      "yessir               000001\n",
      "lantern              000001\n",
      "laguna               000001\n",
      "wanders              000001\n",
      "gish                 000001\n",
      "colonial             000001\n",
      "wade                 000001\n",
      "isaac                000001\n",
      "asimov               000001\n",
      "thickens             000001\n",
      "fences               000001\n",
      "sn                   000001\n",
      "piggies              000001\n",
      "hortons              000001\n",
      "dunkin               000001\n",
      "ap                   000001\n",
      "corpus               000001\n",
      "christi              000001\n",
      "victoria             000001\n",
      "bomber               000001\n",
      "redecorating         000001\n",
      "curtains             000001\n",
      "spikes               000001\n",
      "stainless            000001\n",
      "prolific             000001\n",
      "anaconda             000001\n",
      "kenyan               000001\n",
      "pollutants           000001\n",
      "verizon              000001\n",
      "betterment           000001\n",
      "initial              000001\n",
      "streaked             000001\n",
      "scavenge             000001\n",
      "crawlers             000001\n",
      "minos                000001\n",
      "unclear              000001\n",
      "refering             000001\n",
      "rector               000001\n",
      "parrish              000001\n",
      "gotch                000001\n",
      "revelation           000001\n",
      "screws               000001\n",
      "breasts              000001\n",
      "batteries            000001\n",
      "bribery              000001\n"
     ]
    }
   ],
   "source": [
    "# last 75 words\n",
    "print('{:20} {:>06s}'.format('word', 'frequency'))\n",
    "print('{:20} {:>06s}'.format('-'*20, '-'*6))\n",
    "\n",
    "bottom = OrderedDict(sorted(word_dic.items(), key=lambda kv: kv[1], reverse=False)[:cut])\n",
    "for w in bottom.keys():\n",
    "    print('{:20} {:>06d}'.format(w, bottom[w]))"
   ]
  },
  {
   "cell_type": "code",
   "execution_count": 90,
   "metadata": {},
   "outputs": [],
   "source": [
    "plt.style.use('classic')"
   ]
  },
  {
   "cell_type": "code",
   "execution_count": 91,
   "metadata": {},
   "outputs": [
    {
     "data": {
      "image/png": "[encoded data removed]",
      "text/plain": [
       "<Figure size 1480x840 with 1 Axes>"
      ]
     },
     "metadata": {},
     "output_type": "display_data"
    }
   ],
   "source": [
    "xs = np.arange(len(top))\n",
    "ys = top.values()\n",
    "\n",
    "bar_width = .5\n",
    "opacity = 0.7\n",
    "error_config = {'ecolor': '0.3'}\n",
    "\n",
    "\n",
    "fig, ax = plt.subplots()\n",
    "fig.set_size_inches(18.5, 10.5)\n",
    "fig.set_facecolor(color='white')\n",
    "\n",
    "\n",
    "rects = ax.bar(xs, ys, width=bar_width,\n",
    "               align='edge',\n",
    "               alpha=opacity, color='b',\n",
    "               error_kw=error_config,\n",
    "               label='Frequency')\n",
    "\n",
    "ax.set_xlabel('Words')\n",
    "ax.set_title('Top 75 words')\n",
    "ax.set_xticks(xs + bar_width / 2)\n",
    "ax.set_xticklabels(top.keys())\n",
    "ax.legend()\n",
    "\n",
    "plt.xticks(rotation=90)\n",
    "fig.tight_layout()\n"
   ]
  },
  {
   "cell_type": "code",
   "execution_count": 92,
   "metadata": {
    "scrolled": false
   },
   "outputs": [
    {
     "data": {
      "image/png": "[encoded data removed]",
      "text/plain": [
       "<Figure size 1480x840 with 1 Axes>"
      ]
     },
     "metadata": {},
     "output_type": "display_data"
    }
   ],
   "source": [
    "xs = np.arange(len(bottom))\n",
    "ys = bottom.values()\n",
    "\n",
    "bar_width = .5\n",
    "opacity = 0.7\n",
    "error_config = {'ecolor': '0.3'}\n",
    "\n",
    "#plt.style.use('classic')\n",
    "\n",
    "fig, ax = plt.subplots()\n",
    "fig.set_size_inches(18.5, 10.5)\n",
    "fig.set_facecolor(color='white')\n",
    "\n",
    "\n",
    "rects = ax.bar(xs, ys, width=bar_width,\n",
    "               align='edge',\n",
    "               alpha=opacity, color='b',\n",
    "               error_kw=error_config,\n",
    "               label='Frequency')\n",
    "\n",
    "ax.set_xlabel('Words')\n",
    "ax.set_title('bottom 75 words')\n",
    "ax.set_xticks(xs + bar_width / 2)\n",
    "ax.set_xticklabels(bottom.keys())\n",
    "ax.legend()\n",
    "\n",
    "plt.xticks(rotation=90)\n",
    "fig.tight_layout()"
   ]
  },
  {
   "cell_type": "code",
   "execution_count": 93,
   "metadata": {},
   "outputs": [
    {
     "data": {
      "image/png": "[encoded data removed]",
      "text/plain": [
       "<Figure size 1480x840 with 1 Axes>"
      ]
     },
     "metadata": {},
     "output_type": "display_data"
    }
   ],
   "source": [
    "sort = OrderedDict(sorted(word_dic.items(), key=lambda kv: kv[1], reverse=True))\n",
    "\n",
    "xs = np.arange(len(sort.keys()))\n",
    "ys = sort.values()\n",
    "\n",
    "fig, ax = plt.subplots()\n",
    "fig.set_size_inches(18.5, 10.5)\n",
    "fig.set_facecolor(color='white')\n",
    "\n",
    "rects = ax.loglog(xs, ys, \n",
    "                alpha=opacity,\n",
    "                color='b',\n",
    "                label='log(frequency)')\n",
    "\n",
    "ax.set_xlabel('Words')\n",
    "ax.set_title('bottom 75 words')\n",
    "\n",
    "ax.legend()\n",
    "\n",
    "fig.tight_layout()"
   ]
  },
  {
   "cell_type": "markdown",
   "metadata": {},
   "source": [
    "Since the graph is almost linear we can see that the word count follows a zipf distrubition. In other words, the most common word frequency is inversy proportional. So the most common word is multiplicative of the second most common word and so on.  "
   ]
  },
  {
   "cell_type": "code",
   "execution_count": 94,
   "metadata": {},
   "outputs": [
    {
     "name": "stdout",
     "output_type": "stream",
     "text": [
      "there are 7080 words appearing only once in the entire dataset.\n"
     ]
    }
   ],
   "source": [
    "# How many words appear only once in the entire dataset ?\n",
    "v = 1\n",
    "values = np.array(list(word_dic.values()))\n",
    "indices = np.where(values == v)\n",
    "num = len(np.squeeze(indices))\n",
    "print('there are {:d} words appearing only once in the entire dataset.'.format(num))"
   ]
  },
  {
   "cell_type": "markdown",
   "metadata": {},
   "source": [
    "### Filtering\n",
    "\n",
    "We suggest to filter your data by removing sentences containing rare words. \n",
    "\n",
    "\n",
    "**Code** To achieve that, you should create a new dataset where sentences containing rare words (words that occur less than N times in the dataset) are removed. Keep at least 50'000 sentences (depending on your computing power, you can keep more). \n",
    "HINT: Start by updating the dictionary accordingly and then remove any sentence that contains at least a single word that is not in the dictionary of words. [2 pts]\n",
    "\n",
    "**Question**: How much did you reduce the number of unique words with your rare event suppression procedure? [1 pt]\n",
    "    \n",
    "**Answer**: 18673 - 1293 = 17'380 words have been removed (93.08%)\n",
    "\n",
    "**Question**: How many sentences are in your filtered and original dataset? [1 pt]\n",
    "\n",
    "**Answer**: Original: 131424, Filtered: 58826\n",
    "\n",
    "**Question**: What is the impact on learning and generalization of removing sentences with rare words from your dataset? [2 pt]\n",
    "\n",
    "**Answer**: "
   ]
  },
  {
   "cell_type": "code",
   "execution_count": 95,
   "metadata": {},
   "outputs": [],
   "source": [
    "# We keep only sentences where all word occurences in the\n",
    "# dataset are above the predefined threshold\n",
    "threshold = 70"
   ]
  },
  {
   "cell_type": "code",
   "execution_count": 96,
   "metadata": {},
   "outputs": [],
   "source": [
    "# Update the vocabulary accordingly\n",
    "dtype = np.dtype([('word','<U34'), ('frequency', int)])\n",
    "word_array = np.array(list(word_dic.items()), dtype=dtype)\n",
    "indices = np.squeeze(np.where(word_array['frequency'] >= threshold))\n",
    "\n",
    "# new dictionary\n",
    "freqword_dic = dict(word_array[indices])\n",
    "# new array\n",
    "freqword_array = word_array[indices]"
   ]
  },
  {
   "cell_type": "code",
   "execution_count": 97,
   "metadata": {},
   "outputs": [],
   "source": [
    "freqword_set = set(freqword_dic.keys())\n",
    "freqsentences = [s for s in sentences if set(s.split(separator)) <=  freqword_set]"
   ]
  },
  {
   "cell_type": "code",
   "execution_count": 98,
   "metadata": {},
   "outputs": [
    {
     "name": "stdout",
     "output_type": "stream",
     "text": [
      "                               |      Original       |      Filtered      \n",
      "------------------------------ |-------------------- |--------------------\n",
      "# words                        |       18673         |        1293        \n",
      "# sentences                    |       131424        |       58826        \n",
      "\n",
      "\n",
      "                               |     percentage      |         #          \n",
      "------------------------------ |-------------------- |--------------------\n",
      "suppresed words                |       93.08         |       17380        \n",
      "suppresed sentences            |       55.24         |       72598        \n"
     ]
    }
   ],
   "source": [
    "print('{:^30s} |{:^20s} |{:^20s}'.format('', 'Original', 'Filtered'))\n",
    "print('{:^30s} |{:^20s} |{:^20s}'.format('-'*30, '-'*20, '-'*20))\n",
    "print('{:30s} |{:^20d} |{:^20d}'.format('# words', len(word_dic.keys()), len(freqword_dic.keys())))\n",
    "print('{:30s} |{:^20d} |{:^20d}'.format('# sentences', len(sentences), len(freqsentences)))\n",
    "print('\\n')\n",
    "\n",
    "\n",
    "w_prop = 100 * (1 - len(freqword_dic.keys()) / len(word_dic.keys()))\n",
    "s_prop = 100 * (1 - len(freqsentences) / len(sentences))\n",
    "print('{:^30s} |{:^20s} |{:^20s}'.format('', 'percentage', '#'))\n",
    "print('{:^30s} |{:^20s} |{:^20s}'.format('-'*30, '-'*20, '-'*20))\n",
    "print('{:30s} |{:^20.2f} |{:^20d}'.format('suppresed words', w_prop, len(word_dic.keys()) - len(freqword_dic.keys())))\n",
    "print('{:30s} |{:^20.2f} |{:^20d}'.format('suppresed sentences', s_prop, len(sentences) - len(freqsentences)))"
   ]
  },
  {
   "cell_type": "markdown",
   "metadata": {},
   "source": [
    "TODO:\n",
    "\n",
    "By removing rare sentances with rare words, you may get better generalization before data points that are extreme and unusual are not considered. "
   ]
  },
  {
   "cell_type": "markdown",
   "metadata": {},
   "source": [
    "### Tokenization and padding\n",
    "\n",
    "Now you will transform our filtered data into a format that is understandable by an ANN. To achieve that, you should transform words to integers, where single integers in the range [1,size of the dictionary] are mapped to single words in your dictionary. This process is commonly named 'tokenization'. In addition, we will keep the value 0 to a specific artificial word 'PADD' that will be used to account for the variable length of sentences and add to each sentence a 'START' and an 'END' word. \n",
    "\n",
    "**Code** Start by adding the three artificial words to your dictionary (list of possible tokens) and then translate every sentences to a list of integers. \n",
    "HINT: use the Python List index() method. [2 pts]\n",
    "\n",
    "**Figure** Use the violinplot to show the density of tokenized sentences length. [1pt]\n",
    "\n",
    "**Code** From this figure, select a maximum number (=maxlen) of tokens for which most of the sentences have less. Padd (and eventually truncate) all sentences with the 'PADD' token (value 0 in the integer representation) until all tokenized sentences have the same length (maxlen).\n",
    "HINT: use the pad_sequences function from keras.preprocessing.sequence [2 pts]\n",
    "\n",
    "**Code** Check that you can recover the original sentence. Randomly select two sentences from your integer and padded representation and translate them back using your dictionary. [1 pt]"
   ]
  },
  {
   "cell_type": "code",
   "execution_count": 99,
   "metadata": {},
   "outputs": [],
   "source": [
    "word_dic, sentences = freqword_dic, freqsentences"
   ]
  },
  {
   "cell_type": "code",
   "execution_count": 100,
   "metadata": {},
   "outputs": [],
   "source": [
    "# add the three artificial words\n",
    "tokens = ['PADD'] + ['START'] + ['END'] + list(word_dic.keys())"
   ]
  },
  {
   "cell_type": "code",
   "execution_count": 101,
   "metadata": {},
   "outputs": [
    {
     "name": "stderr",
     "output_type": "stream",
     "text": [
      "No handles with labels found to put in legend.\n"
     ]
    },
    {
     "data": {
      "image/png": "[encoded data removed]",
      "text/plain": [
       "<Figure size 720x720 with 1 Axes>"
      ]
     },
     "metadata": {},
     "output_type": "display_data"
    }
   ],
   "source": [
    "# Fixing random state for reproducibility\n",
    "np.random.seed(19680801)\n",
    "# lengths of sentences\n",
    "xs = [len(s.split(separator)) for s in sentences]\n",
    "\n",
    "fig, ax = plt.subplots(nrows=1, ncols=1, figsize=(9, 9))\n",
    "ax.set_title('Violin plot')\n",
    "ax.set_xticks([1])\n",
    "ax.set_xticklabels(['x1'])\n",
    "ax.legend()\n",
    "\n",
    "ax.violinplot(xs,\n",
    "              showmeans=False,\n",
    "              showmedians=True)\n",
    "fig.tight_layout()\n",
    "plt.show()"
   ]
  },
  {
   "cell_type": "code",
   "execution_count": 320,
   "metadata": {},
   "outputs": [],
   "source": [
    "# create dictionary of mappings\n",
    "dic = dict(zip(tokens, range(len(tokens))))\n",
    "# translate every sentence to a list of integer\n",
    "isentences = []\n",
    "for s in sentences:\n",
    "    ints = [tokens.index('START')]\n",
    "    for word in s.split(separator):\n",
    "        ints += [tokens.index(word)]\n",
    "    isentences += [ints + [tokens.index('END')]] "
   ]
  },
  {
   "cell_type": "code",
   "execution_count": 321,
   "metadata": {},
   "outputs": [],
   "source": [
    "# padd sequences of integers\n",
    "#isentences = pad_sequences(isentences, \n",
    "#                           maxlen=max(xs), \n",
    " #                          dtype='int32', \n",
    "  #                         padding='post', \n",
    "   #                        truncating='post', \n",
    "    #                       value=0)\n",
    "# padd sequences of strings\n",
    "psentences = pad_sequences([s.split(separator) for s in sentences], \n",
    "                              maxlen=max(xs), \n",
    "                              dtype='<U34', \n",
    "                              padding='post', \n",
    "                              truncating='post', \n",
    "                              value='PADD')\n",
    "psentences = np.apply_along_axis(lambda s: separator.join(s), 1, psentences).tolist()"
   ]
  },
  {
   "cell_type": "code",
   "execution_count": 326,
   "metadata": {},
   "outputs": [
    {
     "data": {
      "text/plain": [
       "[[1, 7, 21, 22, 23, 24, 20, 25, 26, 27, 28, 29, 30, 31, 20, 2],\n",
       " [1, 41, 26, 46, 20, 15, 7, 47, 48, 30, 49, 36, 50, 28, 51, 9, 2]]"
      ]
     },
     "execution_count": 326,
     "metadata": {},
     "output_type": "execute_result"
    }
   ],
   "source": [
    "isentences[:2]"
   ]
  },
  {
   "cell_type": "code",
   "execution_count": 191,
   "metadata": {},
   "outputs": [
    {
     "data": {
      "text/plain": [
       "['you must be very fast . hunting is one of my favorite hobbies . PADD PADD PADD PADD PADD PADD PADD PADD PADD PADD PADD PADD PADD PADD PADD PADD PADD PADD PADD PADD PADD PADD PADD PADD PADD PADD PADD',\n",
       " 'that is awesome . do you have a favorite season or time of year ? PADD PADD PADD PADD PADD PADD PADD PADD PADD PADD PADD PADD PADD PADD PADD PADD PADD PADD PADD PADD PADD PADD PADD PADD PADD PADD']"
      ]
     },
     "execution_count": 191,
     "metadata": {},
     "output_type": "execute_result"
    }
   ],
   "source": [
    "psentences[:2]"
   ]
  },
  {
   "cell_type": "code",
   "execution_count": 192,
   "metadata": {},
   "outputs": [],
   "source": [
    "def remove_flags_old(isentences):\n",
    "    # mask padd values\n",
    "    mask = ma.masked_where(isentences != 0, isentences)\n",
    "    if np.any(np.logical_not(mask.mask)):\n",
    "        # remove padd values\n",
    "        isentences = isentences[mask.mask]\n",
    "        # split on <START> => value = 1 (to recover original shape) \n",
    "        indices = np.where(isentences == 1)[0]\n",
    "        # w/o padd\n",
    "        isentences = np.split(isentences, indices)[1:]\n",
    "    \n",
    "    # remove <START>, <END> => [1, 2] values\n",
    "    for i, s in enumerate(isentences):\n",
    "        mask = np.isin(s, [1, 2])\n",
    "        if np.any(mask):\n",
    "            mask = np.logical_not(mask)\n",
    "            isentences[i] = s[mask]\n",
    "    return isentences"
   ]
  },
  {
   "cell_type": "code",
   "execution_count": 107,
   "metadata": {},
   "outputs": [],
   "source": [
    "def remove_flags(isentences):\n",
    "    # remove <PADD>, <START>, <END> => [0, 1, 2] values\n",
    "    res = [0]*len(isentences)\n",
    "    for i, s in enumerate(isentences):\n",
    "        mask = np.isin(s, [0, 1, 2])\n",
    "        res[i] = s\n",
    "        if np.any(mask):   \n",
    "            res[i] = s[np.logical_not(mask)]\n",
    "    return res"
   ]
  },
  {
   "cell_type": "code",
   "execution_count": 108,
   "metadata": {},
   "outputs": [],
   "source": [
    "def recover(isentences):\n",
    "    # faster lookup\n",
    "    dic_array = np.array(list(dic.items()), dtype=[('word','<U34'), ('id', int)])    \n",
    "    # remove padding\n",
    "    isentences = remove_flags(isentences)\n",
    "    sentences = []\n",
    "    for idx in isentences:\n",
    "        sentences += [separator.join(dic_array['word'][idx])]\n",
    "    return sentences"
   ]
  },
  {
   "cell_type": "code",
   "execution_count": 197,
   "metadata": {
    "scrolled": true
   },
   "outputs": [
    {
     "name": "stdout",
     "output_type": "stream",
     "text": [
      "[[  1 219   4  57   6   7   8   9  29 214   6 672  20   2   0   0   0   0\n",
      "    0   0   0   0   0   0   0   0   0   0   0   0   0   0   0   0   0   0\n",
      "    0   0   0   0   0]\n",
      " [  1  41  26  92  20 442   6   7 443   9   2   0   0   0   0   0   0   0\n",
      "    0   0   0   0   0   0   0   0   0   0   0   0   0   0   0   0   0   0\n",
      "    0   0   0   0   0]]\n"
     ]
    },
    {
     "data": {
      "text/plain": [
       "['hello , what are you doing ? my parents are dead .',\n",
       " 'that is good . where are you from ?']"
      ]
     },
     "execution_count": 197,
     "metadata": {},
     "output_type": "execute_result"
    }
   ],
   "source": [
    "# Check that you can recover the original sentence.\n",
    "n = len(isentences)\n",
    "size = 2\n",
    "selection = np.random.randint(n, size=size)\n",
    "\n",
    "print(isentences[selection])\n",
    "recover(isentences[selection])"
   ]
  },
  {
   "cell_type": "markdown",
   "metadata": {},
   "source": [
    "### Saving\n",
    "\n",
    "Now is a good time to save your data (end of processing). An example code using the pickle library is shown below.\n"
   ]
  },
  {
   "cell_type": "code",
   "execution_count": 198,
   "metadata": {},
   "outputs": [],
   "source": [
    "import pickle\n",
    "from pathlib import Path\n",
    "from os.path import join"
   ]
  },
  {
   "cell_type": "code",
   "execution_count": 199,
   "metadata": {},
   "outputs": [],
   "source": [
    "def save(filename, obj, save_path=Path('./save/')):\n",
    "    pickle_out = open(join(save_path, Path(filename)), 'wb+')\n",
    "    pickle.dump(obj, pickle_out, protocol=4)\n",
    "    pickle_out.close()\n",
    "    return True"
   ]
  },
  {
   "cell_type": "code",
   "execution_count": 200,
   "metadata": {},
   "outputs": [],
   "source": [
    "def load(filename, save_path=Path('./save/')):\n",
    "    pickle_in = open(join(save_path, Path(filename)), 'rb')\n",
    "    obj = pickle.load(pickle_in)\n",
    "    pickle_in.close()\n",
    "    return obj"
   ]
  },
  {
   "cell_type": "code",
   "execution_count": 201,
   "metadata": {},
   "outputs": [],
   "source": [
    "# name space\n",
    "name_frequencies = 'data/train_both_revised/word_dic.pkl' # dictionary {word: frequency}\n",
    "name_psentences = 'data/train_both_revised/psentences.pkl'\n",
    "name_isentences = 'data/train_both_revised/isentences.pkl' \n",
    "name_dictionary = 'data/train_both_revised/dic.pkl' # dictionary {token: id}\n",
    "name_sentences = 'data/train_both_revised/sentences.pkl'"
   ]
  },
  {
   "cell_type": "code",
   "execution_count": 323,
   "metadata": {},
   "outputs": [
    {
     "data": {
      "text/plain": [
       "True"
      ]
     },
     "execution_count": 323,
     "metadata": {},
     "output_type": "execute_result"
    }
   ],
   "source": [
    "# save data\n",
    "save(name_frequencies, word_dic)\n",
    "save(name_psentences, psentences)\n",
    "save(name_isentences, isentences)\n",
    "save(name_dictionary, dic)\n",
    "save(name_sentences, sentences)"
   ]
  },
  {
   "cell_type": "code",
   "execution_count": 380,
   "metadata": {},
   "outputs": [],
   "source": [
    "# load data\n",
    "word_dic = load(name_frequencies)\n",
    "psentences = load(name_psentences)\n",
    "isentences = load(name_isentences)\n",
    "dic = load(name_dictionary)\n",
    "sentences = load(name_sentences)"
   ]
  },
  {
   "cell_type": "markdown",
   "metadata": {},
   "source": [
    "## Building and training generative models of language"
   ]
  },
  {
   "cell_type": "markdown",
   "metadata": {},
   "source": [
    "### RNN vs LSTM vs GRU \n",
    "\n",
    "Build, train and compare generative models of language based on RNNs with different recurrent units (SimpleRNN, GRU and LSTM). \n",
    "\n",
    "The target of the network will be to approximate the word transition probabilities Pr(word[n+1]|H[n]) with H[n]=f(word[:n]) being the hidden state of the network.  \n",
    "\n",
    "**code** You should complete the proposed model (using the Keras API rather than the Sequential model for more flexibility). Be sure to understand each line. The embedding layer allows to transform an integer to a dense vector. That would be our input to the recurrent network - each sentence is mapped to a sequence of vectors, each representing a single word. You can then design your own readout(s) and output layers. By default, use the proposed meta parameters. You can adapt them if you have more or less computing power (32 epochs should take around 30 minutes). [2 pts]\n",
    "\n",
    "**Question** How will your networks deal with the artificial word 'PADD' that you added at the end of each sentences  [2 pts]\n",
    "\n",
    "**Answer**\n",
    "\n",
    "**code** Then train three different networks with the same architecture but using different recurrent units (simpleRNN, GRU and LSTM). Save the learning history (training/validation loss and accuracy for each epoch) as well as the models. [1 pt]\n",
    "\n",
    "**Question** How can you use this network to approximate the word transition probabilities? What will be the inputs and targets of the network at each batch? Give the input/output tensor dimensions. [2 pts]\n",
    "\n",
    "**Answer**\n",
    "\n",
    "**Figure** Show the learning curves (training and validation loss) for the different recurrent units. [1 pt]\n",
    "\n",
    "**Figure** Show the learning curves (training and validation accuracy) for the different recurrent units. [1 pt]\n",
    "\n",
    "**Question:** Which recurrent unit yields the best validation accuracy? Which is the fastest learner? [1 pt]\n",
    "\n",
    "**Answer**: \n",
    "\n",
    "**Question:** Do you observe an overfitting effect? Where and for which case? Give a possible explanation. [1 pt] \n",
    "\n",
    "**Answer**: \n",
    "\n",
    "**Question:** Suggest one option modifying your dataset to decrease overfitting. [1 pt]\n",
    "\n",
    "**Answer**: \n",
    "\n",
    "**Question:** Suggest one possible option modifying your network to decrease overfitting. [1 pt]\n",
    "\n",
    "**Answer**: \n",
    "\n",
    "**Question:** Suggest one possible option modifying the training modalities to counter overfitting. [1 pt]   \n",
    "\n",
    "**Answer**: "
   ]
  },
  {
   "cell_type": "code",
   "execution_count": 44,
   "metadata": {},
   "outputs": [],
   "source": [
    "from keras.utils import plot_model, to_categorical\n",
    "from math import ceil"
   ]
  },
  {
   "cell_type": "code",
   "execution_count": 137,
   "metadata": {},
   "outputs": [],
   "source": [
    "#Meta-parameters\n",
    "maxlen = len(isentences[0])\n",
    "embedding_size = 128\n",
    "hidden_size = 64\n",
    "dropout = 0.2\n",
    "recurrent_dropout = 0.2\n",
    "\n",
    "batch_size = 128\n",
    "epochs = 32\n",
    "validation_split = 0.2\n",
    "\n",
    "dataset_cut = int(.1 * len(isentences))"
   ]
  },
  {
   "cell_type": "code",
   "execution_count": 138,
   "metadata": {},
   "outputs": [],
   "source": [
    "I = {}\n",
    "E = {}\n",
    "H = {}\n",
    "R = {}\n",
    "Y = {}\n",
    "models = {}\n",
    "logs = {}"
   ]
  },
  {
   "cell_type": "code",
   "execution_count": 139,
   "metadata": {},
   "outputs": [],
   "source": [
    "def batch_iter(x, batch_size, num_batches=1):\n",
    "    \"\"\"\n",
    "    Generate a minibatch iterator for a dataset.\n",
    "    Takes as input one iterable (here the file names of the articles)\n",
    "    Outputs an iterator which gives mini-batches of `batch_size` matching elements from `x`.\n",
    "    Example of use :\n",
    "    for minibatch_filenames, in batch_iter(x, 2):\n",
    "        <DO-SOMETHING>\n",
    "    \"\"\"\n",
    "    data_size = len(x)\n",
    "\n",
    "    for batch_num in range(num_batches):\n",
    "        start_index = batch_num * batch_size\n",
    "        end_index = min((batch_num + 1) * batch_size, data_size)\n",
    "        if start_index != end_index:\n",
    "            yield x[start_index:end_index]"
   ]
  },
  {
   "cell_type": "code",
   "execution_count": 391,
   "metadata": {},
   "outputs": [],
   "source": [
    "def prepare_data(isentences, split=.1):\n",
    "    n = len(isentences)\n",
    "    cut = int(split * n)\n",
    "    \n",
    "    #x = np.delete(isentences, -2, axis=1) # target values\n",
    "    x = []\n",
    "    y = []\n",
    "    \n",
    "    for s in isentences:\n",
    "        x.append(s[:-2] + [2])\n",
    "        y.append(s[-2])\n",
    "    \n",
    "    # padd sequences of integers\n",
    "    x = pad_sequences(x,   maxlen=40, \n",
    "                           dtype='int32', \n",
    "                           padding='post', \n",
    "                           truncating='post', \n",
    "                           value=0)\n",
    "    \n",
    "    x_train, x_test = x[cut:], x[:cut]\n",
    "    \n",
    "    y = to_categorical(y, len(tokens)) # convert to one hot encoding\n",
    "    y_train, y_test = y[cut:], y[:cut]\n",
    "\n",
    "    return (x_train, y_train), (x_test, y_test)"
   ]
  },
  {
   "cell_type": "code",
   "execution_count": 392,
   "metadata": {},
   "outputs": [
    {
     "name": "stdout",
     "output_type": "stream",
     "text": [
      "[   1  171  254   99 1015  110   39   75  894  237    2    0    0    0\n",
      "    0    0    0    0    0    0    0    0    0    0    0    0    0    0\n",
      "    0    0    0    0    0    0    0    0    0    0    0    0]\n",
      "1.0\n"
     ]
    }
   ],
   "source": [
    "(x_train, y_train), (x_test, y_test) = prepare_data(isentences)\n",
    "print(x_train[0])\n",
    "print(y_train[0][20])\n",
    "#isentences"
   ]
  },
  {
   "cell_type": "code",
   "execution_count": null,
   "metadata": {
    "scrolled": true
   },
   "outputs": [
    {
     "name": "stdout",
     "output_type": "stream",
     "text": [
      "_________________________________________________________________\n",
      "Layer (type)                 Output Shape              Param #   \n",
      "=================================================================\n",
      "input (InputLayer)           (None, 40)                0         \n",
      "_________________________________________________________________\n",
      "embedding (Embedding)        (None, 40, 128)           165888    \n",
      "_________________________________________________________________\n",
      "lstm_9 (LSTM)                (None, 64)                49408     \n",
      "_________________________________________________________________\n",
      "dense_51 (Dense)             (None, 128)               8320      \n",
      "_________________________________________________________________\n",
      "dense_52 (Dense)             (None, 1296)              167184    \n",
      "=================================================================\n",
      "Total params: 390,800\n",
      "Trainable params: 390,800\n",
      "Non-trainable params: 0\n",
      "_________________________________________________________________\n",
      "Train on 42355 samples, validate on 10589 samples\n",
      "Epoch 1/32\n",
      "42355/42355 [==============================] - 87s 2ms/step - loss: 6.4622 - acc: 0.3389 - val_loss: 6.0234 - val_acc: 0.3598\n",
      "Epoch 2/32\n",
      "42355/42355 [==============================] - 77s 2ms/step - loss: 5.7548 - acc: 0.3587 - val_loss: 5.5233 - val_acc: 0.3598\n",
      "Epoch 3/32\n",
      "42355/42355 [==============================] - 77s 2ms/step - loss: 5.3233 - acc: 0.3587 - val_loss: 5.1415 - val_acc: 0.3598\n",
      "Epoch 4/32\n",
      "27872/42355 [==================>...........] - ETA: 28s - loss: 5.0268 - acc: 0.3587"
     ]
    }
   ],
   "source": [
    "# LSTM\n",
    "\n",
    "(x_train, y_train), (x_test, y_test) = prepare_data(isentences)\n",
    "\n",
    "I['LSTM'] = Input(shape=(maxlen-1,), name=\"input\")\n",
    "# Transform every character into a 128-dimensional vector:\n",
    "E['LSTM'] = Embedding(len(dic), embedding_size, mask_zero=True, name=\"embedding\")(I['LSTM'])\n",
    "# The RNN layer with dropout\n",
    "H['LSTM'] = LSTM(hidden_size, activation='tanh', dropout=dropout, recurrent_dropout=recurrent_dropout)(E['LSTM'])\n",
    "\n",
    "# The readout layer\n",
    "R['LSTM'] = Dense(embedding_size, activation='softmax')(H['LSTM'])\n",
    "\n",
    "# The output layer \n",
    "Y['LSTM'] = Dense(len(dic), activation='sigmoid')(R['LSTM'])\n",
    "\n",
    "models['LSTM'] = Model(inputs = I['LSTM'], outputs = Y['LSTM'])\n",
    "models['LSTM'].compile(\n",
    "    loss='categorical_crossentropy', \n",
    "    optimizer=Adam(),\n",
    "    metrics=['acc'])\n",
    "models['LSTM'].summary()\n",
    "\n",
    "# plot_model(models['RNN'], to_file='recurrent_neural_network.png')\n",
    "\n",
    "logs['LSTM'] = models['LSTM'].fit(x_train, y_train, \n",
    "                                epochs=epochs, \n",
    "                                validation_split=validation_split, \n",
    "                                batch_size=batch_size).history"
   ]
  },
  {
   "cell_type": "code",
   "execution_count": null,
   "metadata": {},
   "outputs": [],
   "source": [
    "# SimpleRNN\n",
    "\n",
    "(x_train, y_train), (x_test, y_test) = prepare_data(isentences)\n",
    "\n",
    "I['RNN'] = Input(shape=(maxlen-1,), name=\"input\")\n",
    "# Transform every character into a 128-dimensional vector:\n",
    "E['RNN'] = Embedding(len(dic), embedding_size, mask_zero=True, name=\"embedding\")(I['RNN'])\n",
    "# The RNN layer with dropout\n",
    "H['RNN'] = SimpleRNN(hidden_size, activation='tanh', dropout=dropout, recurrent_dropout=recurrent_dropout)(E['RNN'])\n",
    "\n",
    "# The readout layer\n",
    "R['RNN'] = Dense(embedding_size, activation='softmax')(H['RNN'])\n",
    "\n",
    "# The output layer \n",
    "Y['RNN'] = Dense(len(dic), activation='sigmoid')(R['RNN'])\n",
    "\n",
    "models['RNN'] = Model(inputs = I['RNN'], outputs = Y['RNN'])\n",
    "models['RNN'].compile(\n",
    "    loss='categorical_crossentropy', \n",
    "    optimizer=Adam(),\n",
    "    metrics=['acc'])\n",
    "models['RNN'].summary()\n",
    "\n",
    "# plot_model(models['RNN'], to_file='recurrent_neural_network.png')\n",
    "\n",
    "logs['RNN'] = models['RNN'].fit(x_train, y_train, \n",
    "                                epochs=epochs, \n",
    "                                validation_split=validation_split, \n",
    "                                batch_size=batch_size).history"
   ]
  },
  {
   "cell_type": "code",
   "execution_count": null,
   "metadata": {},
   "outputs": [],
   "source": [
    "# GRU\n",
    "\n",
    "(x_train, y_train), (x_test, y_test) = prepare_data(isentences)\n",
    "\n",
    "I['GRU'] = Input(shape=(maxlen-1,), name=\"input\")\n",
    "# Transform every character into a 128-dimensional vector:\n",
    "E['GRU'] = Embedding(len(dic), embedding_size, mask_zero=True, name=\"embedding\")(I['GRU'])\n",
    "# The RNN layer with dropout\n",
    "H['GRU'] = GRU(hidden_size, activation='tanh', dropout=dropout, recurrent_dropout=recurrent_dropout)(E['GRU'])\n",
    "\n",
    "# The readout layer\n",
    "R['GRU'] = Dense(embedding_size, activation='softmax')(H['GRU'])\n",
    "\n",
    "# The output layer \n",
    "Y['GRU'] = Dense(len(dic), activation='sigmoid')(R['GRU'])\n",
    "\n",
    "models['GRU'] = Model(inputs = I['GRU'], outputs = Y['GRU'])\n",
    "models['GRU'].compile(\n",
    "    loss='categorical_crossentropy', \n",
    "    optimizer=Adam(),\n",
    "    metrics=['acc'])\n",
    "models['GRU'].summary()\n",
    "\n",
    "# plot_model(models['RNN'], to_file='recurrent_neural_network.png')\n",
    "\n",
    "logs['GRU'] = models['GRU'].fit(x_train, y_train, \n",
    "                                epochs=epochs, \n",
    "                                validation_split=validation_split, \n",
    "                                batch_size=batch_size).history"
   ]
  },
  {
   "cell_type": "code",
   "execution_count": null,
   "metadata": {},
   "outputs": [],
   "source": [
    "# name space\n",
    "name_rnn = 'models/rnn.pkl'"
   ]
  },
  {
   "cell_type": "code",
   "execution_count": null,
   "metadata": {},
   "outputs": [],
   "source": [
    "# save\n",
    "save(name_rnn, [models['RNN'], logs['RNN'], x_train, y_train, x_test, y_test])"
   ]
  },
  {
   "cell_type": "code",
   "execution_count": null,
   "metadata": {},
   "outputs": [],
   "source": [
    "# load\n",
    "rnn_model, rnn_history, x_train, y_train, x_test, y_test = load(name_rnn)"
   ]
  },
  {
   "cell_type": "code",
   "execution_count": null,
   "metadata": {},
   "outputs": [],
   "source": [
    "def viz(ix, iy, iyHat):\n",
    "    # recover string representation\n",
    "    syHat = recover(iyHat[:, None])\n",
    "    sy = recover(iy[:, None])\n",
    "    sx = recover(ix)\n",
    "    \n",
    "    print('{:^75s} |{:^15s} |{:^15s}'.format('input', 'target', 'prediction'))\n",
    "    print('{:^75s} |{:^15s} |{:^15s}'.format('-'*75, '-'*15, '-'*15))\n",
    "    \n",
    "    for i, v in enumerate(zip(sx, sy, syHat)):\n",
    "        input_, target, pred = v\n",
    "        print('{:75s} |{:^15s} |{:^15s}'.format(input_, target, pred))\n",
    "        if i == 100: \n",
    "            break"
   ]
  },
  {
   "cell_type": "code",
   "execution_count": null,
   "metadata": {},
   "outputs": [],
   "source": [
    "def accuracy(model, ix, hy, show=True):\n",
    "    # target: change one hot encoding back to integer\n",
    "    iy = np.apply_along_axis(np.argmax, 1, hy)\n",
    "    # compute predictions\n",
    "    hyHat = model.predict(ix)\n",
    "    # prediction: change one hot encoding back to integer\n",
    "    iyHat = np.apply_along_axis(np.argmax, 1, hyHat)\n",
    "    \n",
    "    n_samples = len(iy)\n",
    "    n_errors = len(np.nonzero(iy - iyHat)[0])\n",
    "    # simple viz\n",
    "    viz(ix, iy, iyHat) if show else None\n",
    "        \n",
    "    return 1 - n_errors / n_samples"
   ]
  },
  {
   "cell_type": "code",
   "execution_count": null,
   "metadata": {},
   "outputs": [],
   "source": [
    "accuracy(rnn_model, x_test, y_test)"
   ]
  },
  {
   "cell_type": "code",
   "execution_count": null,
   "metadata": {},
   "outputs": [],
   "source": [
    "plot_history(rnn_history, \"History\")"
   ]
  },
  {
   "cell_type": "code",
   "execution_count": null,
   "metadata": {},
   "outputs": [],
   "source": []
  },
  {
   "cell_type": "code",
   "execution_count": null,
   "metadata": {},
   "outputs": [],
   "source": []
  },
  {
   "cell_type": "code",
   "execution_count": null,
   "metadata": {},
   "outputs": [],
   "source": []
  },
  {
   "cell_type": "code",
   "execution_count": null,
   "metadata": {},
   "outputs": [],
   "source": []
  },
  {
   "cell_type": "markdown",
   "metadata": {},
   "source": [
    "### Optimal network size\n",
    "\n",
    "Compare the learning curves for three networks with 64 (previous exercise), 128 and 256 GRUs (single layer) and one with two hidden layers of 64 GRUs. \n",
    "\n",
    "**Code** Build and train the networks. Apply EarlyStopping (monitor='val_acc', min_delta=0.001, patience=2). Use transfer learning, do not train from scratch your embedding layer, rather re-use the embedding layer from your best performing network in the last exercise. [4 pts]\n",
    "\n",
    "**Figure** Show the learning curves (training and validation loss) for the four models. [1 pt]\n",
    "\n",
    "**Figure** Show the learning curves (training and validation accuracy) for the four models. [1 pt]\n",
    "\n",
    "**Question** List and briefly explain the differences in the learning curves for the different models? [2 pts]\n",
    "\n",
    "**Answer**\n",
    "\n",
    "**Question** What effect had EarlyStopping? Give one advantage and one drawback. [2 pts]\n",
    "\n",
    "**Answer**\n",
    "\n",
    "**Question** What is your best model? Why? [1 pt]\n",
    "\n",
    "**Answer**\n",
    "\n"
   ]
  },
  {
   "cell_type": "code",
   "execution_count": null,
   "metadata": {},
   "outputs": [],
   "source": [
    "# define the patience for EarlyStopping\n",
    "patience = 2\n",
    "# Define Early Stopping Callback\n",
    "es = EarlyStopping(monitor='val_loss', mode='min', verbose=1, patience=patience, min_delta=0.001)"
   ]
  },
  {
   "cell_type": "code",
   "execution_count": null,
   "metadata": {},
   "outputs": [],
   "source": [
    "# 1 Layer, 64 Neurons GRU\n",
    "\n",
    "(x_train, y_train), (x_test, y_test) = prepare_data(isentences)\n",
    "\n",
    "I['LSTM'] = Input(shape=(maxlen-1,), name=\"input\")\n",
    "# Transform every character into a 128-dimensional vector:\n",
    "#E['LSTM'] = Embedding(len(dic), embedding_size, mask_zero=True, name=\"embedding\")(I['LSTM'])\n",
    "# The RNN layer with dropout\n",
    "# Use the embedding layer from previous models (Transfer learning)\n",
    "H['LSTM'] = GRU(64, activation='tanh', dropout=dropout, recurrent_dropout=recurrent_dropout)(E['LSTM'])\n",
    "\n",
    "# The readout layer\n",
    "R['LSTM'] = Dense(embedding_size, activation='softmax')(H['LSTM'])\n",
    "\n",
    "# The output layer \n",
    "Y['LSTM'] = Dense(len(dic), activation='sigmoid')(R['LSTM'])\n",
    "\n",
    "models['LSTM'] = Model(inputs = I['LSTM'], outputs = Y['LSTM'])\n",
    "models['LSTM'].compile(\n",
    "    loss='categorical_crossentropy', \n",
    "    optimizer=Adam(),\n",
    "    metrics=['acc'],\n",
    "    callbacks=[es])\n",
    "models['LSTM'].summary()\n",
    "\n",
    "# plot_model(models['RNN'], to_file='recurrent_neural_network.png')\n",
    "\n",
    "logs['LSTM'] = models['LSTM'].fit(x_train, y_train, \n",
    "                                epochs=epochs, \n",
    "                                validation_split=validation_split, \n",
    "                                batch_size=batch_size).history"
   ]
  },
  {
   "cell_type": "code",
   "execution_count": null,
   "metadata": {},
   "outputs": [],
   "source": [
    "# 1 Layer, 128 Neurons GRU\n",
    "\n",
    "(x_train, y_train), (x_test, y_test) = prepare_data(isentences)\n",
    "\n",
    "I['LSTM'] = Input(shape=(maxlen-1,), name=\"input\")\n",
    "# Transform every character into a 128-dimensional vector:\n",
    "#E['LSTM'] = Embedding(len(dic), embedding_size, mask_zero=True, name=\"embedding\")(I['LSTM'])\n",
    "# The RNN layer with dropout\n",
    "# Use the embedding layer from previous models (Transfer learning)\n",
    "H['LSTM'] = GRU(64, activation='tanh', dropout=dropout, recurrent_dropout=recurrent_dropout)(E['RNN'])\n",
    "\n",
    "# The readout layer\n",
    "R['LSTM'] = Dense(embedding_size, activation='softmax')(H['LSTM'])\n",
    "\n",
    "# The output layer \n",
    "Y['LSTM'] = Dense(len(dic), activation='sigmoid')(R['LSTM'])\n",
    "\n",
    "models['LSTM'] = Model(inputs = I['LSTM'], outputs = Y['LSTM'])\n",
    "models['LSTM'].compile(\n",
    "    loss='categorical_crossentropy', \n",
    "    optimizer=Adam(),\n",
    "    metrics=['acc'],\n",
    "    callbacks=[es])\n",
    "models['LSTM'].summary()\n",
    "\n",
    "# plot_model(models['RNN'], to_file='recurrent_neural_network.png')\n",
    "\n",
    "logs['LSTM'] = models['LSTM'].fit(x_train, y_train, \n",
    "                                epochs=epochs, \n",
    "                                validation_split=validation_split, \n",
    "                                batch_size=batch_size).history"
   ]
  },
  {
   "cell_type": "code",
   "execution_count": null,
   "metadata": {},
   "outputs": [],
   "source": [
    "# 1 Layer, 256 Neurons GRU\n",
    "\n",
    "(x_train, y_train), (x_test, y_test) = prepare_data(isentences)\n",
    "\n",
    "I['LSTM'] = Input(shape=(maxlen-1,), name=\"input\")\n",
    "# Transform every character into a 128-dimensional vector:\n",
    "#E['LSTM'] = Embedding(len(dic), embedding_size, mask_zero=True, name=\"embedding\")(I['LSTM'])\n",
    "# The RNN layer with dropout\n",
    "# Use the embedding layer from previous models (Transfer learning)\n",
    "H['LSTM'] = GRU(64, activation='tanh', dropout=dropout, recurrent_dropout=recurrent_dropout)(E['RNN'])\n",
    "\n",
    "# The readout layer\n",
    "R['LSTM'] = Dense(embedding_size, activation='softmax')(H['LSTM'])\n",
    "\n",
    "# The output layer \n",
    "Y['LSTM'] = Dense(len(dic), activation='sigmoid')(R['LSTM'])\n",
    "\n",
    "models['LSTM'] = Model(inputs = I['LSTM'], outputs = Y['LSTM'])\n",
    "models['LSTM'].compile(\n",
    "    loss='categorical_crossentropy', \n",
    "    optimizer=Adam(),\n",
    "    metrics=['acc'],\n",
    "    callbacks=[es])\n",
    "models['LSTM'].summary()\n",
    "\n",
    "# plot_model(models['RNN'], to_file='recurrent_neural_network.png')\n",
    "\n",
    "logs['LSTM'] = models['LSTM'].fit(x_train, y_train, \n",
    "                                epochs=epochs, \n",
    "                                validation_split=validation_split, \n",
    "                                batch_size=batch_size).history"
   ]
  },
  {
   "cell_type": "code",
   "execution_count": null,
   "metadata": {},
   "outputs": [],
   "source": [
    "# 2 Layers, 64 Neurons GRU\n",
    "\n",
    "(x_train, y_train), (x_test, y_test) = prepare_data(isentences)\n",
    "\n",
    "I['LSTM'] = Input(shape=(maxlen-1,), name=\"input\")\n",
    "# Transform every character into a 128-dimensional vector:\n",
    "#E['LSTM'] = Embedding(len(dic), embedding_size, mask_zero=True, name=\"embedding\")(I['LSTM'])\n",
    "# The RNN layer with dropout\n",
    "# Use the embedding layer from previous models (Transfer learning)\n",
    "H1 = GRU(64, activation='tanh', dropout=dropout, recurrent_dropout=recurrent_dropout)(E['RNN'])\n",
    "\n",
    "H2 = GRU(64, activation='tanh', dropout=dropout, recurrent_dropout=recurrent_dropout)(H1)\n",
    "\n",
    "# The readout layer\n",
    "R['LSTM'] = Dense(embedding_size, activation='softmax')(H2)\n",
    "\n",
    "# The output layer \n",
    "Y['LSTM'] = Dense(len(dic), activation='sigmoid')(R['LSTM'])\n",
    "\n",
    "models['LSTM'] = Model(inputs = I['LSTM'], outputs = Y['LSTM'])\n",
    "models['LSTM'].compile(\n",
    "    loss='categorical_crossentropy', \n",
    "    optimizer=Adam(),\n",
    "    metrics=['acc'],\n",
    "    callbacks=[es])\n",
    "models['LSTM'].summary()\n",
    "\n",
    "# plot_model(models['RNN'], to_file='recurrent_neural_network.png')\n",
    "\n",
    "logs['LSTM'] = models['LSTM'].fit(x_train, y_train, \n",
    "                                epochs=epochs, \n",
    "                                validation_split=validation_split, \n",
    "                                batch_size=batch_size).history"
   ]
  },
  {
   "cell_type": "code",
   "execution_count": null,
   "metadata": {},
   "outputs": [],
   "source": []
  },
  {
   "cell_type": "markdown",
   "metadata": {},
   "source": [
    "### Generate sentences\n",
    "\n",
    "Now you will generate new sentences from your best performing model.\n",
    "\n",
    "**Code** To achieve that, use the provided sample function below to generate new sentences from your model. You should start by constructing a sentence that starts with the 'START' artificial word and all other words being the 'PADD' artificial word. Then sample the first word from the corresponding probabilities given by your model. Add this word to the sentence and continue like this until you sample the 'END' artificial word or the maximum sentence length. [2 pts]\n",
    "\n",
    "**Code** Generate 10 sentences for different sampling temperature in [0., 0.25, 0.5, 0.75, 1., 1.5., 2.]. [1 pt]\n",
    "\n",
    "**7 Figures** For each temperature, use matplotlib imshow to plot the probablities of every word in one generated sentence (and only these words) at each time step. y-axis should be the words that are present in the sentence. x-axis the timesteps and the imshow value the probabilities given by the model for all words in the sentence at each timestep. Use the a colormap where 0 is white, e.g. cmap='Greys'. [2 pts]\n",
    "\n",
    "**Code** Finally, seed your model with two different beginnings of max 4 words and let it generate 10 possible continuations (use sampling temperature of 1.). [2 pts]\n",
    "\n",
    "**Question** What is the effect of sampling temperature on the generated sentences? [1 pt]\n",
    "\n",
    "**Answer**\n",
    "\n",
    "**Question** In terms of sampling a probability distribution, what does a sampling temperature of 0 corresponds to? [1 pt] \n",
    "\n",
    "**Answer**\n",
    "\n",
    "**Question** In terms of sampling a probability distribution, what does a sampling temperature of 1. corresponds to? [1 pt] \n",
    "\n",
    "**Answer**\n",
    "\n",
    "**Question** In terms of sampling a probability distribution, what does a very high sampling temperature corresponds to? [1 pt]\n",
    "\n",
    "**Answer**\n",
    "\n",
    "**Question** Based on the plotted word probabilities, explain how a sentence is generated. [2 pts]\n",
    "\n",
    "**Answer**\n",
    "\n",
    "**Question** Do you observe timesteps with more than one word with non-zero probability? How do these probable words relate in terms of language? [1 pt]\n",
    "\n",
    "**Answer**"
   ]
  },
  {
   "cell_type": "code",
   "execution_count": null,
   "metadata": {},
   "outputs": [],
   "source": [
    "def sample(preds, temperature=1.):\n",
    "    # helper function to sample an index from a probability array\n",
    "    if temperature == 0.:\n",
    "        return np.argmax(preds)\n",
    "    preds = np.asarray(preds).astype('float64')\n",
    "    preds = np.log(preds) / temperature\n",
    "    exp_preds = np.exp(preds)\n",
    "    preds = exp_preds / np.sum(exp_preds)\n",
    "    probas = np.random.multinomial(1, preds, 1)\n",
    "    return np.argmax(probas)\n"
   ]
  },
  {
   "cell_type": "code",
   "execution_count": null,
   "metadata": {},
   "outputs": [],
   "source": [
    "theInput = [0,1]\n",
    "# Predict the next word\n",
    "yHat = model.predict(theInput) "
   ]
  },
  {
   "cell_type": "code",
   "execution_count": null,
   "metadata": {},
   "outputs": [],
   "source": [
    "temps = [0.02, 0.25, 0.5, 0.75, 1, 1.5, 2]"
   ]
  },
  {
   "cell_type": "code",
   "execution_count": null,
   "metadata": {},
   "outputs": [],
   "source": [
    "#starting_sentance = [0,0,0,0,0,0,1]\n",
    "\n",
    "#sample(preds,1)"
   ]
  },
  {
   "cell_type": "code",
   "execution_count": null,
   "metadata": {},
   "outputs": [],
   "source": []
  },
  {
   "cell_type": "markdown",
   "metadata": {},
   "source": [
    "###  Word embedding visualization\n",
    "\n",
    "Here, you are asked to visualize the embedding layer. \n",
    "\n",
    "**Code** To do that, project in 2D the embedding vectors for different words. Use t-SNE, a projection that conserve the neighborhood relationships between vectors. HINT: Build a Keras model that takes as input a list of words and outputs a list of vector embeddings as learned by your best performing model. Use t-SNE dimensionality reduction (from sklearn.manifold import TSNE). [2 pts]\n",
    "\n",
    "**Figure** Plot the projection of the first 200 most frequent words in a 2D plot. On the plot, write the words. [2 pt] \n",
    "\n",
    "**Question** Do you observe clusters of words with similar meaning or role in language? Report three of them here. [1 pt]\n",
    "\n",
    "**Answer**\n",
    "\n",
    "**Question** Why is having similar vector representation for similar words a good approach for such models? Explain using the example clusters from before and argue in terms of prediction accuracy and/or generalization. [2 pts]\n",
    "\n",
    "**Answer**"
   ]
  },
  {
   "cell_type": "code",
   "execution_count": null,
   "metadata": {
    "scrolled": true
   },
   "outputs": [],
   "source": []
  },
  {
   "cell_type": "code",
   "execution_count": null,
   "metadata": {},
   "outputs": [],
   "source": []
  },
  {
   "cell_type": "code",
   "execution_count": null,
   "metadata": {
    "scrolled": true
   },
   "outputs": [],
   "source": []
  },
  {
   "cell_type": "markdown",
   "metadata": {},
   "source": [
    "## Chatbot\n",
    "\n",
    "Finally, you will construct a model with which you can chat. The network will take as input a sentence and output a response.\n",
    "\n",
    "**Code** For that, you should go back to your original data and construct a new dataset containing pairs of sentences, where each pair is a sentence and its answer. Be careful to not include any pair of sentences that contains words not present in your filtered dictionary. [2 pts]\n",
    "\n",
    "**Code** You should then tokenize, padd, truncate each sentence. Only the answers need the 'START' and 'END' artificial words. [1 pt]\n",
    "\n",
    "We provide you with a possible model, you are welcome to change it. This model uses an LSTM layer to encode the first sentence (the context). The final state of this LSTM layer is transfered to initialize the state of a decoder LSTM layer from which the answer sentence will be generated. \n",
    "\n",
    "**Code** Train your chatbot model on your dataset. [1 pt]\n",
    "\n",
    "**Code** Adapt your sentence generation code from before so that you can generate an answer given a context sentence from your model. [2 pts] \n",
    "\n",
    "**Code** After training, randomly select 10 context-answers pairs from your data and show both the real answer (the one from the data) and the generated one for two different sampling temperatures (e.g. 0.5 and 1.0). [2 pts]\n",
    "\n",
    "**Question** How similar are the generated answers and the real ones? Does your model provide probable answers (given the dataset)? Report here one good and one bad example. [2 pts]\n",
    "\n",
    "**Answer**\n",
    "\n",
    "**Question** Which sampling temperature gives better answers? why? [2 pts]\n",
    "\n",
    "**Answer**\n",
    "\n",
    "**Question** Would it be good if your model was able to reproduce exactly each real answer? Why? [1 pt]\n",
    "\n",
    "**Answer**\n",
    "\n",
    "**Code** Entertain yourself with your model. Write some code to chat with your bot, let it discuss with itself, ... be creative! [2 **bonus** pts]\n",
    "\n",
    "\n"
   ]
  },
  {
   "cell_type": "code",
   "execution_count": null,
   "metadata": {},
   "outputs": [],
   "source": []
  },
  {
   "cell_type": "code",
   "execution_count": null,
   "metadata": {},
   "outputs": [],
   "source": []
  },
  {
   "cell_type": "code",
   "execution_count": null,
   "metadata": {},
   "outputs": [],
   "source": []
  },
  {
   "cell_type": "code",
   "execution_count": null,
   "metadata": {},
   "outputs": [],
   "source": [
    "context = Input(shape=(maxlen-2,), name=\"input_context\")\n",
    "shared_embedding = E['GRU']\n",
    "context_embedding = shared_embedding(context)\n",
    "\n",
    "encoder_y, encoder_h, encoder_c = LSTM(hidden_size, \n",
    "            return_sequences=False,\n",
    "            return_state=True,\n",
    "            stateful=False,\n",
    "            dropout=dropout,\n",
    "            recurrent_dropout=recurrent_dropout,\n",
    "            go_backwards=True,\n",
    "            name=\"encoder\")(context_embedding)\n",
    "\n",
    "answer = Input(shape=(maxlen-1,), name=\"input_answer\")\n",
    "answer_embedding = shared_embedding(answer)\n",
    "\n",
    "decoder_input = answer_embedding\n",
    "decoder = LSTM(hidden_size, \n",
    "            return_sequences=True,\n",
    "            stateful=False,\n",
    "            dropout=dropout,\n",
    "            recurrent_dropout=recurrent_dropout,\n",
    "            name=\"decoder\")(answer_embedding, initial_state=[encoder_h, encoder_c])\n",
    "# decoder2 = LSTM(hidden_size, \n",
    "#             return_sequences=True,\n",
    "#             stateful=False,\n",
    "#             dropout=dropout,\n",
    "#             recurrent_dropout=recurrent_dropout,\n",
    "#             name=\"decoder2\")(decoder)\n",
    "\n",
    "R = TimeDistributed(Dense(embedding_size, activation='relu'), name='readout')(decoder)\n",
    "Y = TimeDistributed(Dense(len(tokens), activation='softmax'), name='output')(R)\n",
    "\n",
    "Chatbot = Model(inputs = [context, answer], outputs = [Y])\n",
    "Chatbot.compile(\n",
    "    loss='categorical_crossentropy', \n",
    "    optimizer=Adam(),\n",
    "    metrics=['acc'])\n",
    "Chatbot.summary()\n"
   ]
  },
  {
   "cell_type": "code",
   "execution_count": null,
   "metadata": {
    "scrolled": true
   },
   "outputs": [],
   "source": []
  },
  {
   "cell_type": "code",
   "execution_count": null,
   "metadata": {},
   "outputs": [],
   "source": []
  },
  {
   "cell_type": "code",
   "execution_count": null,
   "metadata": {},
   "outputs": [],
   "source": []
  }
 ],
 "metadata": {
  "kernelspec": {
   "display_name": "cs456env",
   "language": "python",
   "name": "cs456env"
  },
  "language_info": {
   "codemirror_mode": {
    "name": "ipython",
    "version": 3
   },
   "file_extension": ".py",
   "mimetype": "text/x-python",
   "name": "python",
   "nbconvert_exporter": "python",
   "pygments_lexer": "ipython3",
   "version": "3.6.7"
  }
 },
 "nbformat": 4,
 "nbformat_minor": 2
}
